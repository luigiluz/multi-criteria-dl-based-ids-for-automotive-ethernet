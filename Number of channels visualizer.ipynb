{
  "nbformat": 4,
  "nbformat_minor": 0,
  "metadata": {
    "colab": {
      "provenance": []
    },
    "kernelspec": {
      "name": "python3",
      "display_name": "Python 3"
    },
    "language_info": {
      "name": "python"
    }
  },
  "cells": [
    {
      "cell_type": "code",
      "source": [
        "import torch as ch"
      ],
      "metadata": {
        "id": "d4C1EcrDFZAu"
      },
      "execution_count": null,
      "outputs": []
    },
    {
      "cell_type": "code",
      "execution_count": null,
      "metadata": {
        "id": "kufmKo_TFKn0"
      },
      "outputs": [],
      "source": [
        "resume_path = 'model_best.pth'\n",
        "\n",
        "ckpt = ch.load(resume_path, map_location='cpu')\n",
        "# start_epoch = ckpt['epoch']\n",
        "# model.load_state_dict(update_state_dict(model.state_dict(),ckpt['model']))\n",
        "# for group_name in prob_models:\n",
        "#                     prob_models[group_name].load_state_dict(update_state_dict(prob_models[group_name].state_dict(),ckpt['prob_models'][group_name]))\n",
        "# optimizer.load_state_dict(ckpt['optimizer'])\n",
        "# prob_optimizer.load_state_dict(ckpt['prob_optimizer'])"
      ]
    },
    {
      "cell_type": "code",
      "source": [
        "ckpt.keys()"
      ],
      "metadata": {
        "colab": {
          "base_uri": "https://localhost:8080/"
        },
        "id": "sM8dFH5jFo60",
        "outputId": "3625220d-d8f9-462c-c48d-833e3c0e5fb5"
      },
      "execution_count": null,
      "outputs": [
        {
          "output_type": "execute_result",
          "data": {
            "text/plain": [
              "dict_keys(['epoch', 'model', 'prob_models', 'best_acc1', 'best_epoch', 'optimizer', 'prob_optimizer', 'bits', 'ac_bytes'])"
            ]
          },
          "metadata": {},
          "execution_count": 4
        }
      ]
    },
    {
      "cell_type": "code",
      "source": [
        "ckpt['bits']"
      ],
      "metadata": {
        "colab": {
          "base_uri": "https://localhost:8080/"
        },
        "id": "aUe_Vn6p6DSO",
        "outputId": "c341dfcd-981f-48e7-8f78-346c949f4f56"
      },
      "execution_count": null,
      "outputs": [
        {
          "output_type": "execute_result",
          "data": {
            "text/plain": [
              "tensor(95003.7344)"
            ]
          },
          "metadata": {},
          "execution_count": 5
        }
      ]
    },
    {
      "cell_type": "code",
      "source": [
        "ckpt['bits']/8000"
      ],
      "metadata": {
        "colab": {
          "base_uri": "https://localhost:8080/"
        },
        "id": "YZy2udyp9Wxj",
        "outputId": "8423b1dc-0e57-4d0d-8680-8b5c4444a160"
      },
      "execution_count": null,
      "outputs": [
        {
          "output_type": "execute_result",
          "data": {
            "text/plain": [
              "tensor(11.8755)"
            ]
          },
          "metadata": {},
          "execution_count": 8
        }
      ]
    },
    {
      "cell_type": "code",
      "source": [
        "ckpt['ac_bytes']"
      ],
      "metadata": {
        "colab": {
          "base_uri": "https://localhost:8080/"
        },
        "id": "o86WIPyc6Fnw",
        "outputId": "17c90136-5ff4-474b-cccf-d26afcb52ad8"
      },
      "execution_count": null,
      "outputs": [
        {
          "output_type": "execute_result",
          "data": {
            "text/plain": [
              "11734"
            ]
          },
          "metadata": {},
          "execution_count": 6
        }
      ]
    },
    {
      "cell_type": "code",
      "source": [
        "model = ckpt['model']"
      ],
      "metadata": {
        "id": "ig47kKYVJJun"
      },
      "execution_count": null,
      "outputs": []
    },
    {
      "cell_type": "code",
      "source": [
        "model.keys()"
      ],
      "metadata": {
        "colab": {
          "base_uri": "https://localhost:8080/"
        },
        "id": "NLWnQEUpJOBm",
        "outputId": "f597d2ea-d3fc-4c5b-9115-19575c664be9"
      },
      "execution_count": null,
      "outputs": [
        {
          "output_type": "execute_result",
          "data": {
            "text/plain": [
              "odict_keys(['module.feature_extraction_layer.0.weight', 'module.feature_extraction_layer.0.bias', 'module.feature_extraction_layer.0.weight_decoder.scale', 'module.feature_extraction_layer.2.weight', 'module.feature_extraction_layer.2.bias', 'module.feature_extraction_layer.2.running_mean', 'module.feature_extraction_layer.2.running_var', 'module.feature_extraction_layer.2.num_batches_tracked', 'module.feature_extraction_layer.4.weight', 'module.feature_extraction_layer.4.bias', 'module.feature_extraction_layer.4.weight_decoder.scale', 'module.feature_extraction_layer.6.weight', 'module.feature_extraction_layer.6.bias', 'module.feature_extraction_layer.6.running_mean', 'module.feature_extraction_layer.6.running_var', 'module.feature_extraction_layer.6.num_batches_tracked', 'module.binary_classification_layer.1.weight', 'module.binary_classification_layer.1.bias', 'module.binary_classification_layer.1.weight_decoder.scale', 'module.binary_classification_layer.4.weight', 'module.binary_classification_layer.4.bias', 'module.binary_classification_layer.4.weight_decoder.scale'])"
            ]
          },
          "metadata": {},
          "execution_count": 10
        }
      ]
    },
    {
      "cell_type": "code",
      "source": [
        "layer_0_weights = 'module.feature_extraction_layer.0.weight'\n",
        "layer_2_weights = 'module.feature_extraction_layer.2.weight'\n",
        "layer_4_weights = 'module.feature_extraction_layer.4.weight'\n",
        "layer_4_weigths_decoder = 'module.feature_extraction_layer.4.weight_decoder.scale'\n",
        "\n",
        "classification_layer_1_weight = 'module.binary_classification_layer.1.weight'"
      ],
      "metadata": {
        "id": "UiZfQY4wJOr2"
      },
      "execution_count": null,
      "outputs": []
    },
    {
      "cell_type": "code",
      "source": [
        "model[layer_4_weights].shape"
      ],
      "metadata": {
        "colab": {
          "base_uri": "https://localhost:8080/"
        },
        "id": "qBQA3LEWTVuH",
        "outputId": "cf588aae-b209-47bf-871c-b01a1682939d"
      },
      "execution_count": null,
      "outputs": [
        {
          "output_type": "execute_result",
          "data": {
            "text/plain": [
              "torch.Size([64, 32, 5, 5])"
            ]
          },
          "metadata": {},
          "execution_count": 44
        }
      ]
    },
    {
      "cell_type": "code",
      "source": [
        "conv_weights = ['module.feature_extraction_layer.0.weight', 'module.feature_extraction_layer.4.weight']\n",
        "\n",
        "for curr_conv_weights in conv_weights:\n",
        "\n",
        "  param = ch.round(model[curr_conv_weights])\n",
        "  weight_oi = ch.sum(ch.abs(param),dim=(2,3))\n",
        "  non_zero_in = ch.count_nonzero(ch.sum(weight_oi, dim=0))\n",
        "  non_zero_out = ch.count_nonzero(ch.sum(weight_oi, dim=1))\n",
        "\n",
        "  print(f\"Conv2d(in_channels={non_zero_in}, out_channels={non_zero_out})\")\n",
        "\n",
        "in_features = 11*29*non_zero_out\n",
        "print(f\"Linear(in_features={in_features}, out_features=64)\")"
      ],
      "metadata": {
        "colab": {
          "base_uri": "https://localhost:8080/"
        },
        "id": "LymkqoRmJx5-",
        "outputId": "0d6ce4a0-325d-4a6e-9bf1-0217e303d4b5"
      },
      "execution_count": null,
      "outputs": [
        {
          "output_type": "stream",
          "name": "stdout",
          "text": [
            "Conv2d(in_channels=1, out_channels=27)\n",
            "Conv2d(in_channels=27, out_channels=26)\n",
            "Linear(in_features=8294, out_features=64)\n"
          ]
        }
      ]
    },
    {
      "cell_type": "markdown",
      "source": [
        "# Model size"
      ],
      "metadata": {
        "id": "PkbcJpf5_ADV"
      }
    },
    {
      "cell_type": "code",
      "source": [
        "from typing import List\n",
        "import torch\n",
        "import numpy as np\n",
        "import torch.nn as nn\n",
        "import torch.nn.functional as F\n",
        "import torch.nn.init as init\n",
        "\n",
        "class ConvNetIDS(nn.Module):\n",
        "    def __init__(self, width=1, init_type='random', compress_bias = False, vanilla=False,\\\n",
        "                 mode='fan_out', boundary=10, no_shift=False):\n",
        "        super(ConvNetIDS, self).__init__()\n",
        "\n",
        "        self.feature_extraction_layer = nn.Sequential(\n",
        "            nn.Conv2d(in_channels=1, out_channels=32, kernel_size=5, stride=1, padding='same'),\n",
        "            nn.ReLU(),\n",
        "            nn.BatchNorm2d(32, eps=0.001, momentum=0.9),\n",
        "            nn.MaxPool2d(kernel_size=2, stride=2),\n",
        "\n",
        "            nn.Conv2d(in_channels=32, out_channels=64, kernel_size=5, stride=1, padding='same'),\n",
        "            nn.ReLU(),\n",
        "            nn.BatchNorm2d(64, eps=0.001, momentum=0.9),\n",
        "            nn.MaxPool2d(kernel_size=2, stride=2)\n",
        "        )\n",
        "\n",
        "        self.binary_classification_layer = nn.Sequential(\n",
        "            nn.Dropout(p=0.3),\n",
        "            nn.Linear(in_features=20416, out_features=64),\n",
        "            nn.Dropout(p=0.3),\n",
        "            nn.ReLU(),\n",
        "            nn.Linear(in_features=64, out_features=1)\n",
        "        )\n",
        "\n",
        "    def forward(self, x):\n",
        "        x = self.feature_extraction_layer(x)\n",
        "        x = torch.flatten(x, 1)\n",
        "        x = self.binary_classification_layer(x)\n",
        "        x = torch.sigmoid(x)\n",
        "        return x"
      ],
      "metadata": {
        "id": "tx6T84zr-_vS"
      },
      "execution_count": null,
      "outputs": []
    },
    {
      "cell_type": "code",
      "source": [
        "model = ConvNetIDS()"
      ],
      "metadata": {
        "id": "w5HOb_CT_cmQ"
      },
      "execution_count": null,
      "outputs": []
    },
    {
      "cell_type": "code",
      "source": [
        "from pytorch_modelsize import SizeEstimator"
      ],
      "metadata": {
        "id": "AifnwHSf_5N-"
      },
      "execution_count": null,
      "outputs": []
    },
    {
      "cell_type": "code",
      "source": [
        "estimator = SizeEstimator(model, input_size=(1, 1, 44, 116))"
      ],
      "metadata": {
        "id": "h7tCVPXfAFtj"
      },
      "execution_count": null,
      "outputs": []
    },
    {
      "cell_type": "code",
      "source": [
        "estimator.calc_param_bits()"
      ],
      "metadata": {
        "id": "qVtyYxih_eST"
      },
      "execution_count": null,
      "outputs": []
    },
    {
      "cell_type": "code",
      "source": [
        "total = estimator.param_bits"
      ],
      "metadata": {
        "id": "6VzG1kbBAf-V"
      },
      "execution_count": null,
      "outputs": []
    },
    {
      "cell_type": "code",
      "source": [
        "print((total/8)/(1024))"
      ],
      "metadata": {
        "colab": {
          "base_uri": "https://localhost:8080/"
        },
        "id": "bjRh4zj5A2hO",
        "outputId": "dfc0831b-8ab4-4aaa-eaa4-96087656697b"
      },
      "execution_count": null,
      "outputs": [
        {
          "output_type": "stream",
          "name": "stdout",
          "text": [
            "10617.5078125\n"
          ]
        }
      ]
    },
    {
      "cell_type": "code",
      "source": [],
      "metadata": {
        "id": "4JTl-odFA8HX"
      },
      "execution_count": null,
      "outputs": []
    }
  ]
}